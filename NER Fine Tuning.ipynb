{
 "cells": [
  {
   "cell_type": "code",
   "execution_count": null,
   "id": "1d6338f9-18a8-4c27-a048-2122503009cf",
   "metadata": {},
   "outputs": [],
   "source": [
    "from transformers import AutoModelForTokenClassification, AutoTokenizer\n",
    "import torch\n",
    "from datasets import load_dataset\n",
    "\n",
    "class NERPredictor:\n",
    "    def __init__(self, model_dir):\n",
    "        self.tokenizer = AutoTokenizer.from_pretrained(model_dir)\n",
    "        self.model = AutoModelForTokenClassification.from_pretrained(model_dir)\n",
    "        self.model.eval()  # Set the model to evaluation mode\n",
    "\n",
    "    def predict(self, text):\n",
    "        inputs = self.tokenizer(text, return_tensors=\"pt\", truncation=True, padding=True)\n",
    "        with torch.no_grad():\n",
    "            outputs = self.model(**inputs)\n",
    "        logits = outputs.logits\n",
    "        predictions = torch.argmax(logits, dim=-1)\n",
    "        return predictions\n",
    "\n",
    "def main():\n",
    "    model_dir = \"results/checkpoint-2618\" \n",
    "    data=load_dataset('DFKI-SLT/cross_ner','ai')\n",
    "\n",
    "    predictor = NERPredictor(model_dir)\n",
    "\n",
    "    \n",
    "    input_text = (\"Gotta get that anger up outcha champ….It’s honestly sad. In the meantime…. Please enjoy MY MOVIE TRAILER to my next film “LIFT” which will be dropping on  @netflix in 8 days!!!!! There is a moment in the trailer where @gugumbatharaw says “They Really Love You” ….I now know she’s talking about “Katt” 😂😂😂 Mark yo calendars world!!!! This one is SPECIAL!!!!\")\n",
    "\n",
    "    predictions = predictor.predict(input_text)\n",
    "\n",
    "    entity_labels = [f\"LABEL_{pred}\" for pred in predictions[0].numpy()]\n",
    "    label_names = data[\"train\"].features[\"ner_tags\"].feature.names\n",
    "    label_dict = {f'LABEL_{i}': label for i, label in enumerate(label_names)}\n",
    "    label=[]\n",
    "    for i in entity_labels:\n",
    "        if i!=\"LABEL_0\":\n",
    "            label.append(label_dict[i].split(\"-\")[1])\n",
    "    print(list(set(label)))\n",
    "    \n",
    "if __name__ == \"__main__\":\n",
    "    main()\n"
   ]
  }
 ],
 "metadata": {
  "kernelspec": {
   "display_name": "Python 3 (ipykernel)",
   "language": "python",
   "name": "python3"
  },
  "language_info": {
   "codemirror_mode": {
    "name": "ipython",
    "version": 3
   },
   "file_extension": ".py",
   "mimetype": "text/x-python",
   "name": "python",
   "nbconvert_exporter": "python",
   "pygments_lexer": "ipython3",
   "version": "3.10.13"
  }
 },
 "nbformat": 4,
 "nbformat_minor": 5
}
